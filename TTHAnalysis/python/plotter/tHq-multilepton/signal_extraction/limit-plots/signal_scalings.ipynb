{
 "cells": [
  {
   "cell_type": "markdown",
   "metadata": {},
   "source": [
    "### Higgs signal scalings for different models\n",
    "\n",
    "- Read the xs and BR scalings produced from the workspaces for the different models\n",
    "- Use them to produce dataframes of the actual cross sections in each point"
   ]
  },
  {
   "cell_type": "code",
   "execution_count": 1,
   "metadata": {},
   "outputs": [],
   "source": [
    "import pandas as pd"
   ]
  },
  {
   "cell_type": "markdown",
   "metadata": {},
   "source": [
    "#### Read the scalings and put together the cross sections"
   ]
  },
  {
   "cell_type": "code",
   "execution_count": 4,
   "metadata": {},
   "outputs": [
    {
     "name": "stdout",
     "output_type": "stream",
     "text": [
      "wrote xsecs_tH_ttH_WWZZttbb_K6.csv\n",
      "wrote xsecs_ttH.csv\n"
     ]
    }
   ],
   "source": [
    "# Hardcoded SM production cross sections for tHq, tHW, and ttH\n",
    "xsec_thq_SM = 0.07096\n",
    "xsec_thw_SM = 0.01561\n",
    "xsec_tth_SM = 0.5071\n",
    "\n",
    "# Hardcoded SM BRs for WW, ZZ, and tautau\n",
    "SM_BR_ww = 0.214\n",
    "SM_BR_zz = 0.026\n",
    "SM_BR_tt = 0.063\n",
    "SM_BR_bb = 0.583\n",
    "\n",
    "df_xsbr = pd.read_csv(\"xsecs/xsbr_scalings_K6.csv\", sep=\",\", index_col=None)\n",
    "df_br = pd.read_csv(\"xsecs/br_scalings_K6.csv\",   sep=\",\", index_col=None)\n",
    "xsecs = pd.DataFrame()\n",
    "\n",
    "xsecs['cv']  = df_xsbr[model].cv.round(3) # only use 3 significan digits\n",
    "xsecs['cf']  = df_xsbr[model].ct.round(3)\n",
    "\n",
    "xsecs['tth'] =  df_xsbr[model].ttHww*SM_BR_ww*xsec_tth_SM \n",
    "xsecs['tth'] += df_xsbr[model].ttHzz*SM_BR_zz*xsec_tth_SM \n",
    "xsecs['tth'] += df_xsbr[model].ttHtt*SM_BR_tt*xsec_tth_SM\n",
    "xsecs['tth'] += df_xsbr[model].ttHbb*SM_BR_bb*xsec_tth_SM\n",
    "\n",
    "xsecs['thq'] =  df_xsbr[model].tHqww*SM_BR_ww*xsec_thq_SM \n",
    "xsecs['thq'] += df_xsbr[model].tHqzz*SM_BR_zz*xsec_thq_SM \n",
    "xsecs['thq'] += df_xsbr[model].tHqtt*SM_BR_tt*xsec_thq_SM\n",
    "xsecs['thq'] += df_xsbr[model].tHqbb*SM_BR_bb*xsec_thq_SM\n",
    "\n",
    "xsecs['thw'] =  df_xsbr[model].tHWww*SM_BR_ww*xsec_thw_SM \n",
    "xsecs['thw'] += df_xsbr[model].tHWzz*SM_BR_zz*xsec_thw_SM \n",
    "xsecs['thw'] += df_xsbr[model].tHWtt*SM_BR_tt*xsec_thw_SM\n",
    "xsecs['thw'] += df_xsbr[model].tHWbb*SM_BR_bb*xsec_thw_SM\n",
    "\n",
    "xsecs['tot'] = xsecs['tth'] + xsecs['thq'] + xsecs['thw']\n",
    "\n",
    "# Write them out as csv files for other notebooks to use\n",
    "xsecs.to_csv('xsecs_tH_ttH_WWZZttbb_%s.csv' % model)\n",
    "print \"wrote xsecs_tH_ttH_WWZZttbb_%s.csv\" % model\n",
    "\n",
    "# Already have tHq and tHW production cross sections in csv format\n",
    "# Now let's produce one for ttH also\n",
    "xsec_tth = pd.DataFrame()\n",
    "xsec_tth['ct']   = df_xsbr.values()[0].loc[df_xsbr.values()[0].cv == 1.0].ct\n",
    "xsec_tth['xsec'] = xsec_tth.ct.apply(lambda x: x**2*xsec_tth_SM)\n",
    "xsec_tth.to_csv('xsecs_ttH.csv')\n",
    "print \"wrote xsecs_ttH.csv\""
   ]
  },
  {
   "cell_type": "code",
   "execution_count": 15,
   "metadata": {},
   "outputs": [],
   "source": [
    "from functools import partial\n",
    "from ctcv_helper import print_table\n",
    "from ctcv_helper import read_dataframe\n",
    "from ctcv_helper import read_dataframe_ratio"
   ]
  },
  {
   "cell_type": "markdown",
   "metadata": {},
   "source": [
    "#### Absolute scalings of H->WW, H->ZZ, H->tautau\n",
    "\n"
   ]
  },
  {
   "cell_type": "code",
   "execution_count": 16,
   "metadata": {
    "scrolled": false
   },
   "outputs": [
    {
     "name": "stdout",
     "output_type": "stream",
     "text": [
      " alpha  Ct/CV          CV=0.5                CV=1.0                CV=1.5\n",
      "                  WW     ZZ    tata     WW     ZZ    tata     WW     ZZ    tata  \n",
      "-0.973 -6.000:  0.1889 0.1889 6.7999                                             \n",
      "-0.941 -4.000:  0.2478 0.2478 3.9647                                             \n",
      "-0.900 -3.000:  0.2782 0.2782 2.5034  0.6651 0.6651 5.9862                       \n",
      "-0.862 -2.500:  0.2922 0.2922 1.8264                                             \n",
      "-0.800 -2.000:  0.3048 0.3048 1.2194  0.8412 0.8412 3.3647  1.2477 1.2477 4.9909 \n",
      "-0.692 -1.500:  0.3154 0.3154 0.7097  0.9271 0.9271 2.0859                       \n",
      "-0.640 -1.333:                                              1.5115 1.5115 2.6870 \n",
      "-0.610 -1.250:                        0.9658 0.9658 1.5091                       \n",
      "-0.500 -1.000:  0.3235 0.3235 0.3235  1.0000 1.0000 1.0000  1.6322 1.6322 1.6322 \n",
      "-0.410 -0.833:                                              1.6851 1.6851 1.1702 \n",
      "-0.360 -0.750:                        1.0283 1.0283 0.5784                       \n",
      "-0.308 -0.667:                                              1.7310 1.7310 0.7693 \n",
      "-0.200 -0.500:  0.3285 0.3285 0.0821  1.0495 1.0495 0.2624  1.7684 1.7684 0.4421 \n",
      "-0.100 -0.333:                                              1.7962 1.7962 0.1996 \n",
      "-0.059 -0.250:                        1.0627 1.0627 0.0664                       \n",
      "-0.027 -0.167:                                              1.8133 1.8133 0.0504 \n",
      " 0.000  0.000:  0.3302 0.3302 0.0000  1.0672 1.0672 0.0000  1.8191 1.8191 0.0000 \n",
      " 0.027  0.167:                                              1.8133 1.8133 0.0504 \n",
      " 0.059  0.250:                        1.0627 1.0627 0.0664                       \n",
      " 0.100  0.333:                                              1.7962 1.7962 0.1996 \n",
      " 0.200  0.500:  0.3285 0.3285 0.0821  1.0495 1.0495 0.2624  1.7684 1.7684 0.4421 \n",
      " 0.308  0.667:                                              1.7310 1.7310 0.7693 \n",
      " 0.360  0.750:                        1.0283 1.0283 0.5784                       \n",
      " 0.410  0.833:                                              1.6851 1.6851 1.1702 \n",
      " 0.500  1.000:  0.3235 0.3235 0.3235  1.0000 1.0000 1.0000  1.6322 1.6322 1.6322 \n",
      " 0.610  1.250:                        0.9658 0.9658 1.5091                       \n",
      " 0.640  1.333:                                              1.5115 1.5115 2.6870 \n",
      " 0.692  1.500:  0.3154 0.3154 0.7097  0.9271 0.9271 2.0859                       \n",
      " 0.800  2.000:  0.3048 0.3048 1.2194  0.8412 0.8412 3.3647  1.2477 1.2477 4.9909 \n",
      " 0.862  2.500:  0.2922 0.2922 1.8264                                             \n",
      " 0.900  3.000:  0.2782 0.2782 2.5034  0.6651 0.6651 5.9862                       \n",
      " 0.941  4.000:  0.2478 0.2478 3.9647                                             \n",
      " 0.973  6.000:  0.1889 0.1889 6.7999                                             \n"
     ]
    }
   ],
   "source": [
    "mod = 'K6'\n",
    "print \" alpha  Ct/CV          CV=0.5                CV=1.0                CV=1.5\"\n",
    "print \"                  WW     ZZ    tata     WW     ZZ    tata     WW     ZZ    tata  \"\n",
    "print_table([partial(read_dataframe, df=df_br[mod], att='hww'),\n",
    "             partial(read_dataframe, df=df_br[mod], att='hzz'),\n",
    "             partial(read_dataframe, df=df_br[mod], att='htt')],\n",
    "             linepat=\" %5.4f %5.4f %5.4f \")"
   ]
  },
  {
   "cell_type": "markdown",
   "metadata": {},
   "source": [
    "#### XS times BR scalings of ttH, tHq, tHW"
   ]
  },
  {
   "cell_type": "code",
   "execution_count": 17,
   "metadata": {},
   "outputs": [
    {
     "name": "stdout",
     "output_type": "stream",
     "text": [
      " alpha  Ct/CV          CV=0.5                CV=1.0                CV=1.5\n",
      "                  WW     ZZ    tata     WW     ZZ    tata     WW     ZZ    tata  \n",
      "-0.973 -6.000:  6.1214 6.1214 220.3702                                             \n",
      "-0.941 -4.000:  4.1227 4.1227 65.9633                                             \n",
      "-0.900 -3.000:  2.9838 2.9838 26.8544  28.5396 28.5396 256.8562                       \n",
      "-0.862 -2.500:  2.4154 2.4154 15.0962                                             \n",
      "-0.800 -2.000:  1.8696 1.8696 7.4784  20.6360 20.6360 82.5440  68.8703 68.8703 275.4812 \n",
      "-0.692 -1.500:  1.3657 1.3657 3.0729  16.0557 16.0557 36.1254                       \n",
      "-0.640 -1.333:                                              51.7152 51.7152 91.9381 \n",
      "-0.610 -1.250:                        13.7201 13.7201 21.4377                       \n",
      "-0.500 -1.000:  0.9236 0.9236 0.9236  11.4220 11.4220 11.4220  41.9469 41.9469 41.9469 \n",
      "-0.410 -0.833:                                              36.9629 36.9629 25.6687 \n",
      "-0.360 -0.750:                        9.2212 9.2212 5.1869                       \n",
      "-0.308 -0.667:                                              32.0233 32.0233 14.2326 \n",
      "-0.200 -0.500:  0.5618 0.5618 0.1405  7.1807 7.1807 1.7952  27.2234 27.2234 6.8058 \n",
      "-0.100 -0.333:                                              22.6628 22.6628 2.5181 \n",
      "-0.059 -0.250:                        5.3616 5.3616 0.3351                       \n",
      "-0.027 -0.167:                                              18.4397 18.4397 0.5122 \n",
      " 0.000  0.000:  0.2953 0.2953 0.0000  3.8183 3.8183 0.0000  14.6443 14.6443 0.0000 \n",
      " 0.027  0.167:                                              11.3529 11.3529 0.3154 \n",
      " 0.059  0.250:                        2.5928 2.5928 0.1620                       \n",
      " 0.100  0.333:                                              8.6227 8.6227 0.9581 \n",
      " 0.200  0.500:  0.1339 0.1339 0.0335  1.7115 1.7115 0.4279  6.4888 6.4888 1.6222 \n",
      " 0.308  0.667:                                              4.9627 4.9627 2.2057 \n",
      " 0.360  0.750:                        1.1834 1.1834 0.6657                       \n",
      " 0.410  0.833:                                              4.0340 4.0340 2.8014 \n",
      " 0.500  1.000:  0.0809 0.0809 0.0809  1.0000 1.0000 1.0000  3.6725 3.6725 3.6725 \n",
      " 0.610  1.250:                        1.1380 1.1380 1.7782                       \n",
      " 0.640  1.333:                                              4.4580 4.4580 7.9254 \n",
      " 0.692  1.500:  0.1329 0.1329 0.2991  1.5628 1.5628 3.5163                       \n",
      " 0.800  2.000:  0.2811 0.2811 1.1243  3.1023 3.1023 12.4092  10.3536 10.3536 41.4143 \n",
      " 0.862  2.500:  0.5119 0.5119 3.1993                                             \n",
      " 0.900  3.000:  0.8096 0.8096 7.2863  7.7435 7.7435 69.6914                       \n",
      " 0.941  4.000:  1.5402 1.5402 24.6428                                             \n",
      " 0.973  6.000:  3.1686 3.1686 114.0678                                             \n"
     ]
    }
   ],
   "source": [
    "mod = 'K6'\n",
    "print \" alpha  Ct/CV          CV=0.5                CV=1.0                CV=1.5\"\n",
    "print \"                  WW     ZZ    tata     WW     ZZ    tata     WW     ZZ    tata  \"\n",
    "print_table([partial(read_dataframe, df=df_xsbr[mod], att='tHqww'),\n",
    "             partial(read_dataframe, df=df_xsbr[mod], att='tHqzz'),\n",
    "             partial(read_dataframe, df=df_xsbr[mod], att='tHqtt')],\n",
    "             linepat=\" %5.4f %5.4f %5.4f \")"
   ]
  },
  {
   "cell_type": "markdown",
   "metadata": {},
   "source": [
    "#### Now let's look at the relative scaling of H->tautau compared to H->WW/ZZ"
   ]
  },
  {
   "cell_type": "code",
   "execution_count": 18,
   "metadata": {},
   "outputs": [
    {
     "name": "stdout",
     "output_type": "stream",
     "text": [
      " alpha  Ct/CV   CV=0.5 CV=1.0 CV=1.5\n",
      "-0.973 -6.000:  36.00               \n",
      "-0.941 -4.000:  16.00               \n",
      "-0.900 -3.000:   9.00   9.00        \n",
      "-0.862 -2.500:   6.25               \n",
      "-0.800 -2.000:   4.00   4.00   4.00 \n",
      "-0.692 -1.500:   2.25   2.25        \n",
      "-0.640 -1.333:                 1.78 \n",
      "-0.610 -1.250:          1.56        \n",
      "-0.500 -1.000:   1.00   1.00   1.00 \n",
      "-0.410 -0.833:                 0.69 \n",
      "-0.360 -0.750:          0.56        \n",
      "-0.308 -0.667:                 0.44 \n",
      "-0.200 -0.500:   0.25   0.25   0.25 \n",
      "-0.100 -0.333:                 0.11 \n",
      "-0.059 -0.250:          0.06        \n",
      "-0.027 -0.167:                 0.03 \n",
      " 0.000  0.000:   0.00   0.00   0.00 \n",
      " 0.027  0.167:                 0.03 \n",
      " 0.059  0.250:          0.06        \n",
      " 0.100  0.333:                 0.11 \n",
      " 0.200  0.500:   0.25   0.25   0.25 \n",
      " 0.308  0.667:                 0.44 \n",
      " 0.360  0.750:          0.56        \n",
      " 0.410  0.833:                 0.69 \n",
      " 0.500  1.000:   1.00   1.00   1.00 \n",
      " 0.610  1.250:          1.56        \n",
      " 0.640  1.333:                 1.78 \n",
      " 0.692  1.500:   2.25   2.25        \n",
      " 0.800  2.000:   4.00   4.00   4.00 \n",
      " 0.862  2.500:   6.25               \n",
      " 0.900  3.000:   9.00   9.00        \n",
      " 0.941  4.000:  16.00               \n",
      " 0.973  6.000:  36.00               \n"
     ]
    }
   ],
   "source": [
    "print \" alpha  Ct/CV   CV=0.5 CV=1.0 CV=1.5\"\n",
    "print_table([partial(read_dataframe_ratio, df=df_br[mod], att1='htt', att2='hww')], linepat=\" %5.2f \")"
   ]
  },
  {
   "cell_type": "code",
   "execution_count": 19,
   "metadata": {
    "scrolled": false
   },
   "outputs": [
    {
     "name": "stdout",
     "output_type": "stream",
     "text": [
      " alpha  Ct/CV          CV=0.5                CV=1.0                CV=1.5\n",
      "                  ttH    tHq    tHW     ttH    tHq    tHW     ttH    tHq    tHW  \n",
      "-0.973 -6.000:  2.1620 1.0894 0.2449                                             \n",
      "-0.941 -4.000:  0.6273 0.3651 0.0794                                             \n",
      "-0.900 -3.000:  0.2561 0.1709 0.0361  2.4497 1.6343 0.3451                       \n",
      "-0.862 -2.500:  0.1467 0.1086 0.0225                                             \n",
      "-0.800 -2.000:  0.0761 0.0653 0.0131  0.8395 0.7205 0.1448  2.8017 2.4044 0.4831 \n",
      "-0.692 -1.500:  0.0343 0.0370 0.0071  0.4038 0.4349 0.0840                       \n",
      "-0.640 -1.333:                                              1.0792 1.2917 0.2452 \n",
      "-0.610 -1.250:                        0.2590 0.3295 0.0620                       \n",
      "-0.500 -1.000:  0.0124 0.0199 0.0036  0.1537 0.2456 0.0447  0.5643 0.9019 0.1641 \n",
      "-0.410 -0.833:                                              0.3789 0.7442 0.1319 \n",
      "-0.360 -0.750:                        0.0808 0.1802 0.0315                       \n",
      "-0.308 -0.667:                                              0.2352 0.6090 0.1046 \n",
      "-0.200 -0.500:  0.0027 0.0102 0.0017  0.0340 0.1303 0.0216  0.1290 0.4941 0.0818 \n",
      "-0.100 -0.333:                                              0.0563 0.3972 0.0630 \n",
      "-0.059 -0.250:                        0.0082 0.0928 0.0144                       \n",
      "-0.027 -0.167:                                              0.0139 0.3163 0.0477 \n",
      " 0.000  0.000:  0.0000 0.0050 0.0007  0.0000 0.0650 0.0092  0.0000 0.2494 0.0355 \n",
      " 0.027  0.167:                                              0.0139 0.1948 0.0260 \n",
      " 0.059  0.250:                        0.0082 0.0449 0.0058                       \n",
      " 0.100  0.333:                                              0.0563 0.1511 0.0191 \n",
      " 0.200  0.500:  0.0027 0.0024 0.0003  0.0340 0.0311 0.0039  0.1290 0.1178 0.0147 \n",
      " 0.308  0.667:                                              0.2352 0.0944 0.0129 \n",
      " 0.360  0.750:                        0.0808 0.0231 0.0035                       \n",
      " 0.410  0.833:                                              0.3789 0.0812 0.0137 \n",
      " 0.500  1.000:  0.0124 0.0017 0.0004  0.1537 0.0215 0.0047  0.5643 0.0790 0.0174 \n",
      " 0.610  1.250:                        0.2590 0.0273 0.0081                       \n",
      " 0.640  1.333:                                              1.0792 0.1114 0.0347 \n",
      " 0.692  1.500:  0.0343 0.0036 0.0012  0.4038 0.0423 0.0140                       \n",
      " 0.800  2.000:  0.0761 0.0098 0.0032  0.8395 0.1083 0.0356  2.8017 0.3615 0.1188 \n",
      " 0.862  2.500:  0.1467 0.0230 0.0072                                             \n",
      " 0.900  3.000:  0.2561 0.0464 0.0139  2.4497 0.4434 0.1328                       \n",
      " 0.941  4.000:  0.6273 0.1364 0.0386                                             \n",
      " 0.973  6.000:  2.1620 0.5639 0.1512                                             \n"
     ]
    }
   ],
   "source": [
    "print \" alpha  Ct/CV          CV=0.5                CV=1.0                CV=1.5\"\n",
    "print \"                  ttH    tHq    tHW     ttH    tHq    tHW     ttH    tHq    tHW  \"\n",
    "print_table([partial(read_dataframe, df=df_xsecs[mod], att='tth'),\n",
    "             partial(read_dataframe, df=df_xsecs[mod], att='thq'),\n",
    "             partial(read_dataframe, df=df_xsecs[mod], att='thw')],\n",
    "             linepat=\" %5.4f %5.4f %5.4f \")"
   ]
  },
  {
   "cell_type": "code",
   "execution_count": null,
   "metadata": {
    "collapsed": true
   },
   "outputs": [],
   "source": []
  },
  {
   "cell_type": "code",
   "execution_count": null,
   "metadata": {
    "collapsed": true
   },
   "outputs": [],
   "source": []
  },
  {
   "cell_type": "code",
   "execution_count": null,
   "metadata": {
    "collapsed": true
   },
   "outputs": [],
   "source": []
  },
  {
   "cell_type": "code",
   "execution_count": null,
   "metadata": {
    "collapsed": true
   },
   "outputs": [],
   "source": []
  }
 ],
 "metadata": {
  "kernelspec": {
   "display_name": "Python 2",
   "language": "python",
   "name": "python2"
  },
  "language_info": {
   "codemirror_mode": {
    "name": "ipython",
    "version": 2
   },
   "file_extension": ".py",
   "mimetype": "text/x-python",
   "name": "python",
   "nbconvert_exporter": "python",
   "pygments_lexer": "ipython2",
   "version": "2.7.15"
  }
 },
 "nbformat": 4,
 "nbformat_minor": 1
}
